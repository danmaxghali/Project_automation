{
 "cells": [
  {
   "cell_type": "code",
   "execution_count": 34,
   "id": "8348c8bd-446d-41cb-b31f-86c3d480138c",
   "metadata": {},
   "outputs": [
    {
     "name": "stdout",
     "output_type": "stream",
     "text": [
      "Structure exists: 'C:\\Users\\Student\\OneDrive - Aston University\\Documents\\Biology\\Project\\Project_automation\\Python\\PDB_files\\pdb3sn6.ent' \n",
      "Extracted residues: [1002, 1003, 1004, 1005, 1006, 1007, 1008, 1009, 1010, 1011, 1012, 1013, 1014, 1015, 1016, 1017, 1018, 1019, 1020, 1021, 1022, 1023, 1024, 1025, 1026, 1027, 1028, 1029, 1030, 1031, 1032, 1033, 1034, 1035, 1036, 1037, 1038, 1039, 1040, 1041, 1042, 1043, 1044, 1045, 1046, 1047, 1048, 1049, 1050, 1051, 1052, 1053, 1054, 1055, 1056, 1057, 1058, 1059, 1060, 1061, 1062, 1063, 1064, 1065, 1066, 1067, 1068, 1069, 1070, 1071, 1072, 1073, 1074, 1075, 1076, 1077, 1078, 1079, 1080, 1081, 1082, 1083, 1084, 1085, 1086, 1087, 1088, 1089, 1090, 1091, 1092, 1093, 1094, 1095, 1096, 1097, 1098, 1099, 1100, 1101, 1102, 1103, 1104, 1105, 1106, 1107, 1108, 1109, 1110, 1111, 1112, 1113, 1114, 1115, 1116, 1117, 1118, 1119, 1120, 1121, 1122, 1123, 1124, 1125, 1126, 1127, 1128, 1129, 1130, 1131, 1132, 1133, 1134, 1135, 1136, 1137, 1138, 1139, 1140, 1141, 1142, 1143, 1144, 1145, 1146, 1147, 1148, 1149, 1150, 1151, 1152, 1153, 1154, 1155, 1156, 1157, 1158, 1159, 1160, 30, 31, 32, 33, 34, 35, 36, 37, 38, 39, 40, 41, 42, 43, 44, 45, 46, 47, 48, 49, 50, 51, 52, 53, 54, 55, 56, 57, 58, 59, 60, 61, 62, 63, 64, 65, 66, 67, 68, 69, 70, 71, 72, 73, 74, 75, 76, 77, 78, 79, 80, 81, 82, 83, 84, 85, 86, 87, 88, 89, 90, 91, 92, 93, 94, 95, 96, 97, 98, 99, 100, 101, 102, 103, 104, 105, 106, 107, 108, 109, 110, 111, 112, 113, 114, 115, 116, 117, 118, 119, 120, 121, 122, 123, 124, 125, 126, 127, 128, 129, 130, 131, 132, 133, 134, 135, 136, 137, 138, 139, 140, 141, 142, 143, 144, 145, 146, 147, 148, 149, 150, 151, 152, 153, 154, 155, 156, 157, 158, 159, 160, 161, 162, 163, 164, 165, 166, 167, 168, 169, 170, 171, 172, 173, 174, 175, 179, 180, 181, 182, 183, 184, 185, 186, 187, 188, 189, 190, 191, 192, 193, 194, 195, 196, 197, 198, 199, 200, 201, 202, 203, 204, 205, 206, 207, 208, 209, 210, 211, 212, 213, 214, 215, 216, 217, 218, 219, 220, 221, 222, 223, 224, 225, 226, 227, 228, 229, 230, 231, 232, 233, 234, 235, 236, 237, 238, 239, 265, 266, 267, 268, 269, 270, 271, 272, 273, 274, 275, 276, 277, 278, 279, 280, 281, 282, 283, 284, 285, 286, 287, 288, 289, 290, 291, 292, 293, 294, 295, 296, 297, 298, 299, 300, 301, 302, 303, 304, 305, 306, 307, 308, 309, 310, 311, 312, 313, 314, 315, 316, 317, 318, 319, 320, 321, 322, 323, 324, 325, 326, 327, 328, 329, 330, 331, 332, 333, 334, 335, 336, 337, 338, 339, 340, 341]\n"
     ]
    }
   ],
   "source": [
    "from Bio import PDB, SeqIO\n",
    "from Bio.Seq import Seq\n",
    "from Bio.SeqRecord import SeqRecord\n",
    "import math\n",
    "\n",
    "# Get PDB data\n",
    "pdb_code = \"3sn6\"\n",
    "pdb_file = PDB.PDBList()\n",
    "pdb_file.retrieve_pdb_file(pdb_code, file_format=\"pdb\", pdir='C:\\\\Users\\\\Student\\\\OneDrive - Aston University\\\\Documents\\\\Biology\\\\Project\\\\Project_automation\\\\Python\\\\PDB_files')\n",
    "\n",
    "def three_to_one(resname):\n",
    "    aa_dict = {\n",
    "        \"ALA\": \"A\", \"ARG\": \"R\", \"ASN\": \"N\", \"ASP\": \"D\", \"CYS\": \"C\",\n",
    "        \"GLN\": \"Q\", \"GLU\": \"E\", \"GLY\": \"G\", \"HIS\": \"H\", \"ILE\": \"I\",\n",
    "        \"LEU\": \"L\", \"LYS\": \"K\", \"MET\": \"M\", \"PHE\": \"F\", \"PRO\": \"P\",\n",
    "        \"SER\": \"S\", \"THR\": \"T\", \"TRP\": \"W\", \"TYR\": \"Y\", \"VAL\": \"V\"\n",
    "    }\n",
    "    return aa_dict.get(resname, \"X\")  # Return 'X' for unknown residues\n",
    "\n",
    "\n",
    "def extract_pdb_fasta(pdb_filepath, chain_id, output_fasta):\n",
    "    parser = PDB.PDBParser(QUIET=True)\n",
    "    structure = parser.get_structure(pdb_code, pdb_filepath)\n",
    "\n",
    "    sequence = []\n",
    "    observed_residues = []\n",
    "    \n",
    "    for model in structure:\n",
    "        for chain in model:\n",
    "            if chain.id == chain_id:  # Only process the target chain\n",
    "                for residue in chain.get_residues():\n",
    "                    if PDB.is_aa(residue):\n",
    "                        sequence.append(three_to_one(residue.get_resname()))\n",
    "                        observed_residues.append(residue.id[1])  # Keep track of numbering\n",
    "\n",
    "    fasta_seq = SeqRecord(Seq(\"\".join(sequence)), id=f\"{pdb_filepath}_{chain_id}\", description=\"\")\n",
    "    SeqIO.write(fasta_seq, output_fasta, \"fasta\")\n",
    "\n",
    "    return observed_residues  # Return numbering for later alignment\n",
    "\n",
    "pdb_filepath = f\"C:\\\\Users\\\\Student\\\\OneDrive - Aston University\\\\Documents\\\\Biology\\\\Project\\\\Project_automation\\\\Python\\\\PDB_files\\\\pdb{pdb_code}.ent\"\n",
    "chain_id = \"R\"\n",
    "fasta_filepath = f\"C:\\\\Users\\\\Student\\\\OneDrive - Aston University\\\\Documents\\\\Biology\\\\Project\\\\Project_automation\\\\Python\\\\Fasta_files\\\\{pdb_code}.fasta\"\n",
    "\n",
    "observed_residues = extract_pdb_fasta(pdb_filepath, chain_id, fasta_filepath)\n",
    "print(f\"Extracted residues: {observed_residues}\")\n"
   ]
  },
  {
   "cell_type": "code",
   "execution_count": 8,
   "id": "6cfe5dbe-f5d2-43cb-864f-9356fc39369c",
   "metadata": {},
   "outputs": [
    {
     "name": "stdout",
     "output_type": "stream",
     "text": [
      "STDOUT: 2025-03-16 17:13:39,083 | INFO : Extracted zip file to: output/\n",
      "\n",
      "2025-03-16 17:13:39,084 | INFO : Done in 2.88 seconds\n",
      "\n",
      "2025-03-16 17:13:39,083 | INFO : Extracted zip file to: output/\n",
      "2025-03-16 17:13:39,084 | INFO : Done in 2.88 seconds\n",
      "\n",
      "STDERR: \n"
     ]
    }
   ],
   "source": [
    "# Attempting to use DeepTMHMM through the terminal but accessing that through python\n",
    "import subprocess\n",
    "import os\n",
    "import shutil\n",
    "\n",
    "results_dir = f\"C:\\\\Users\\\\Student\\\\OneDrive - Aston University\\\\Documents\\\\Biology\\\\Project\\\\Project_automation\\\\Python\\\\DeepTMHMM_results\\\\{pdb_code}\"\n",
    "os.makedirs(results_dir, exist_ok=True)\n",
    "\n",
    "# Run DeepTMHMM within the results directory\n",
    "process = subprocess.Popen(\n",
    "    [\"biolib\", \"run\", \"DTU/DeepTMHMM\", \"--fasta\", fasta_filepath],\n",
    "    stdout=subprocess.PIPE,\n",
    "    stderr=subprocess.PIPE,\n",
    "    text=True,\n",
    "    cwd=results_dir \n",
    ")\n",
    "\n",
    "stdout, stderr = process.communicate() \n",
    "print(\"STDOUT:\", stdout)\n",
    "print(\"STDERR:\", stderr)"
   ]
  },
  {
   "cell_type": "code",
   "execution_count": 35,
   "id": "618aa5df-2078-4917-9b21-b1f9ab6687c9",
   "metadata": {
    "scrolled": true
   },
   "outputs": [
    {
     "name": "stdout",
     "output_type": "stream",
     "text": [
      "[(161, 170), (172, 188), (201, 225), (238, 259), (280, 301), (327, 347), (377, 400), (409, 428)]\n"
     ]
    }
   ],
   "source": [
    "# Align output ranges with actual observed residues\n",
    "tmh_ranges = []\n",
    "tmh_result_file = f\"C:\\\\Users\\\\Student\\\\OneDrive - Aston University\\\\Documents\\\\Biology\\\\Project\\\\Project_automation\\\\Python\\\\DeepTMHMM_results\\\\{pdb_code}\\\\biolib_results\\\\TMRs.gff3\"\n",
    "\n",
    "with open(tmh_result_file) as file:\n",
    "    for line in file:\n",
    "        if \"TMhelix\" in line:\n",
    "            parts = line.strip().split(\"\\t\")\n",
    "            start, end = int(parts[2]), int(parts[3])\n",
    "            tmh_ranges.append((start, end))\n",
    "\n",
    "print(tmh_ranges)\n"
   ]
  },
  {
   "cell_type": "code",
   "execution_count": 36,
   "id": "17d1f78c-dfdc-487f-a19d-e3af483ee8ad",
   "metadata": {},
   "outputs": [
    {
     "name": "stdout",
     "output_type": "stream",
     "text": [
      "['-' 'H' 'H' 'H' 'H' 'H' 'H' 'H' 'H' '-' '-' '-' '-' '-' 'E' '-' 'E' 'E'\n",
      " '-' '-' '-' '-' '-' 'E' 'E' 'E' '-' '-' '-' 'E' 'E' '-' 'E' '-' '-' '-'\n",
      " '-' 'H' 'H' 'H' 'H' 'H' 'H' 'H' 'H' 'H' 'H' 'H' 'H' '-' '-' '-' '-' '-'\n",
      " '-' 'E' '-' '-' 'H' 'H' 'H' 'H' 'H' 'H' 'H' 'H' 'H' 'H' 'H' 'H' 'H' 'H'\n",
      " 'H' 'H' 'H' 'H' 'H' 'H' 'H' '-' 'H' 'H' 'H' 'H' 'H' 'H' 'H' 'H' 'H' '-'\n",
      " '-' 'H' 'H' 'H' 'H' 'H' 'H' 'H' 'H' 'H' 'H' 'H' 'H' 'H' '-' 'H' 'H' 'H'\n",
      " 'H' 'H' 'H' '-' '-' 'H' 'H' 'H' 'H' 'H' 'H' 'H' 'H' '-' '-' '-' 'H' 'H'\n",
      " 'H' 'H' 'H' 'H' 'H' 'H' 'H' '-' '-' 'H' 'H' 'H' 'H' 'H' '-' 'H' 'H' 'H'\n",
      " 'H' 'H' 'H' 'H' 'H' 'H' 'H' 'H' 'H' '-' '-' '-' '-' '-' '-' '-' '-' 'H'\n",
      " 'H' 'H' 'H' 'H' 'H' 'H' 'H' 'H' 'H' 'H' 'H' 'H' 'H' 'H' 'H' 'H' 'H' 'H'\n",
      " 'H' 'H' 'H' 'H' 'H' 'H' 'H' 'H' 'H' 'H' '-' 'H' 'H' 'H' '-' '-' 'H' 'H'\n",
      " 'H' 'H' 'H' 'H' 'H' 'H' 'H' 'H' 'H' 'H' 'H' 'H' '-' 'H' 'H' 'H' 'H' 'H'\n",
      " 'H' 'H' 'H' 'H' 'H' 'H' 'H' 'H' 'H' 'H' '-' '-' '-' '-' '-' '-' 'H' 'H'\n",
      " 'H' 'H' 'H' 'H' 'H' 'H' 'H' 'H' 'H' 'H' 'H' 'H' 'H' 'H' 'H' 'H' 'H' 'H'\n",
      " 'H' 'H' 'H' 'H' 'H' 'H' 'H' 'H' 'H' 'H' 'H' 'H' 'H' 'H' '-' 'H' 'H' 'H'\n",
      " 'H' 'H' 'H' 'H' '-' '-' 'H' 'H' 'H' 'H' 'H' 'H' 'H' 'H' 'H' 'H' 'H' 'H'\n",
      " 'H' 'H' 'H' 'H' 'H' '-' '-' 'H' 'H' 'H' 'H' 'H' '-' '-' '-' '-' '-' '-'\n",
      " 'H' 'H' 'H' 'H' 'H' 'H' 'H' '-' '-' '-' '-' '-' '-' '-' '-' '-' '-' 'H'\n",
      " 'H' 'H' 'H' 'H' 'H' 'H' 'H' 'H' 'H' 'H' '-' 'H' 'H' 'H' 'H' 'H' 'H' 'H'\n",
      " 'H' 'H' 'H' 'H' 'H' 'H' 'H' 'H' 'H' 'H' 'H' 'H' 'H' 'H' 'H' 'H' 'H' 'H'\n",
      " 'H' 'H' 'H' '-' '-' '-' '-' 'H' 'H' 'H' 'H' 'H' 'H' 'H' 'H' 'H' 'H' 'H'\n",
      " 'H' 'H' 'H' 'H' 'H' 'H' 'H' 'H' 'H' 'H' 'H' 'H' 'H' 'H' 'H' 'H' 'H' 'H'\n",
      " 'H' 'H' 'H' 'H' '-' '-' '-' '-' '-' '-' 'H' 'H' 'H' 'H' 'H' 'H' 'H' 'H'\n",
      " 'H' 'H' 'H' 'H' 'H' 'H' 'H' 'H' 'H' 'H' 'H' 'H' 'H' 'H' '-' '-' '-' 'H'\n",
      " 'H' 'H' 'H' 'H' 'H' 'H' 'H' 'H' '-' '-' '-']\n"
     ]
    }
   ],
   "source": [
    "import numpy as np\n",
    "import torch\n",
    "import pydssp\n",
    "\n",
    "parser = PDB.PDBParser(QUIET=True)\n",
    "structure = parser.get_structure(pdb_code, pdb_filepath)\n",
    "\n",
    "# Select the first structure in the file\n",
    "model = structure[0]\n",
    "\n",
    "# Select the A chain\n",
    "chain = model['R']\n",
    "\n",
    "# Retrieve coordinates\n",
    "coordinates = []\n",
    "for residue in chain:\n",
    "    if PDB.is_aa(residue):\n",
    "        res_name = residue.get_resname()\n",
    "        for atom in residue:\n",
    "            if atom.get_name() in ['N', 'CA', 'C', 'O']:\n",
    "                coordinates.append(atom.coord)\n",
    "\n",
    "# Prepare eliments of pytorch tensor\n",
    "L = sum(1 for residue in chain if PDB.is_aa(residue))\n",
    "atoms = 4\n",
    "xyz = 3\n",
    "\n",
    "# Make coordinates into array first to increase efficiency\n",
    "coord_array = np.array(coordinates)\n",
    "\n",
    "# Create tensor\n",
    "coord_tensor = torch.tensor(coord_array, dtype=torch.float32).reshape([L, atoms, xyz])\n",
    "\n",
    "#dssp_hbond_matrix = pydssp.get_hbond_map(coord_tensor) > 0.5\n",
    "\n",
    "# Use pydssp to get secondary structure\n",
    "ss_data = pydssp.assign(coord_tensor, out_type='c3')\n",
    "print(ss_data)"
   ]
  },
  {
   "cell_type": "code",
   "execution_count": 37,
   "id": "6b2dbcd8-3def-49a5-82bb-17bc4270d518",
   "metadata": {},
   "outputs": [
    {
     "name": "stdout",
     "output_type": "stream",
     "text": [
      "Desired Extensions: [(0, 9), (9, 1), (5, 0), (6, 6), (4, 0), (4, 9), (9, 0), (3, 0)]\n"
     ]
    }
   ],
   "source": [
    "def calculate_desired_extensions(tmh_ranges, ss_data, max_extend=9):\n",
    "    \"\"\"Determine how much each TMH would like to extend based on consecutive 'H' residues.\"\"\"\n",
    "    desired_extensions = []\n",
    "\n",
    "    for start, end in tmh_ranges:\n",
    "        # Backward extension\n",
    "        backward_extension = 0\n",
    "        for i in range(1, max_extend + 1):\n",
    "            if start - i >= 0 and ss_data[start - i] == \"H\":\n",
    "                backward_extension += 1\n",
    "            else:\n",
    "                break  # Stop at first non-'H'\n",
    "\n",
    "        # Forward extension\n",
    "        forward_extension = 0\n",
    "        for i in range(1, max_extend + 1):\n",
    "            if end + i < len(ss_data) and ss_data[end + i] == \"H\":\n",
    "                forward_extension += 1\n",
    "            else:\n",
    "                break  # Stop at first non-'H'\n",
    "\n",
    "        desired_extensions.append((backward_extension, forward_extension))\n",
    "\n",
    "    return desired_extensions\n",
    "\n",
    "# Example usage\n",
    "desired_extensions = calculate_desired_extensions(tmh_ranges, ss_data)\n",
    "print(\"Desired Extensions:\", desired_extensions)"
   ]
  },
  {
   "cell_type": "code",
   "execution_count": 38,
   "id": "702f2cbd-583f-468a-b816-e471875f02d3",
   "metadata": {},
   "outputs": [
    {
     "name": "stdout",
     "output_type": "stream",
     "text": [
      "Available Spaces: [1, 12, 12, 20, 25, 29, 8]\n",
      "{0: (0, 0), 1: (0, 1), 2: (5, 0), 3: (6, 6), 4: (4, 0), 5: (4, 9), 6: (9, 0), 7: (3, 0)}\n",
      "[(161, 170), (172, 188), (201, 225), (238, 259), (280, 301), (327, 347), (377, 400), (409, 428)]\n",
      "[(161, 170), (172, 189), (196, 225), (232, 265), (276, 301), (323, 356), (368, 400), (406, 428)]\n",
      "TMH start/end residue pairs in PDB numbering: [(31, 40), (42, 59), (66, 95), (102, 135), (146, 171), (196, 229), (266, 298), (304, 326)]\n",
      "[31, 40, 59, 42, 66, 95, 135, 102, 146, 171, 229, 196, 266, 298]\n"
     ]
    }
   ],
   "source": [
    "def calculate_available_spaces(tmh_ranges):\n",
    "    \"\"\"Calculate the number of residues available between consecutive TMHs.\"\"\"\n",
    "    available_spaces = []\n",
    "\n",
    "    for i in range(len(tmh_ranges) - 1):\n",
    "        prev_end = tmh_ranges[i][1]  # End of the current TMH\n",
    "        next_start = tmh_ranges[i + 1][0]  # Start of the next TMH\n",
    "        available_space = next_start - prev_end - 1  # Residues in between\n",
    "        available_spaces.append(available_space)\n",
    "\n",
    "    return available_spaces\n",
    "\n",
    "# Example usage\n",
    "available_spaces = calculate_available_spaces(tmh_ranges)\n",
    "print(\"Available Spaces:\", available_spaces)\n",
    "\n",
    "# First establish the maximum amount any extension can be\n",
    "max_extension = 9\n",
    "\n",
    "# Edit desired_extensions so that none go over the max_extension\n",
    "desired_extensions = [(min(start, max_extension), min(end, max_extension)) for start, end in desired_extensions]\n",
    "\n",
    "# Put desired extensions in a dictionary so we can align them with available spaces and keep them in order\n",
    "desired_extensions_dict = dict(enumerate(desired_extensions))\n",
    "\n",
    "# Process each available space and ensure fair distribution\n",
    "for i in range(len(available_spaces)):\n",
    "    total_desired = desired_extensions_dict[i][1] + desired_extensions_dict[i + 1][0]  # Sum of forward and backward extension\n",
    "    available = available_spaces[i]  # Available space between TMHs\n",
    "\n",
    "    if total_desired > available:\n",
    "        half_space = math.floor(available / 2)  # Half the space, rounded down\n",
    "        \n",
    "        # If the right-side extension fits within half_space, the left gets the remainder\n",
    "        if half_space >= desired_extensions_dict[i][1]:\n",
    "            desired_extensions_dict[i + 1] = (available - desired_extensions_dict[i][1], desired_extensions_dict[i + 1][1])\n",
    "        \n",
    "        # If the left-side extension fits within half_space, the right gets the remainder\n",
    "        elif half_space >= desired_extensions_dict[i + 1][0]:\n",
    "            desired_extensions_dict[i] = (desired_extensions_dict[i][0], available - desired_extensions_dict[i + 1][0])\n",
    "\n",
    "        # Otherwise, split evenly\n",
    "        else:\n",
    "            desired_extensions_dict[i] = (desired_extensions_dict[i][0], half_space)\n",
    "            desired_extensions_dict[i + 1] = (half_space, desired_extensions_dict[i + 1][1])\n",
    "            \n",
    "print(desired_extensions_dict)\n",
    "\n",
    "# Apply the extensions to tmh_ranges\n",
    "extended_tmh_ranges = []\n",
    "\n",
    "for i, (start, end) in enumerate(tmh_ranges):\n",
    "    left_extension = desired_extensions_dict[i][0]  # Backward extension\n",
    "    right_extension = desired_extensions_dict[i][1]  # Forward extension\n",
    "    \n",
    "    new_start = start - left_extension  # Extend start backwards\n",
    "    new_end = end + right_extension  # Extend end forward\n",
    "    \n",
    "    extended_tmh_ranges.append((new_start, new_end))  # Store the updated range\n",
    "\n",
    "# Print or return the extended TMH ranges\n",
    "print(tmh_ranges)\n",
    "print(extended_tmh_ranges)\n",
    "\n",
    "# Convert TMH positions to actual PDB residue numbers as pairs\n",
    "tmh_extended_pairs = [\n",
    "    (observed_residues[start] -1, observed_residues[end] -1) for start, end in extended_tmh_ranges\n",
    "]\n",
    "\n",
    "print(f\"TMH start/end residue pairs in PDB numbering: {tmh_extended_pairs}\")\n",
    "\n",
    "def reorder_gpcr_tmh_ends(tmh_extended_pairs):\n",
    "    \"\"\"Reorder TMH ends for a GPCR assuming 14 TMH ends in the given pattern.\"\"\"\n",
    "    pattern = [\"extra\", \"intra\", \"intra\", \"extra\", \"extra\", \"intra\", \"intra\", \n",
    "               \"extra\", \"extra\", \"intra\", \"intra\", \"extra\", \"extra\", \"intra\"]\n",
    "\n",
    "    reordered = []\n",
    "    for i, label in enumerate(pattern):\n",
    "        if label == \"extra\":\n",
    "            reordered.append(tmh_extended_pairs[i // 2][0])  # Take start residue\n",
    "        else:  # \"intra\"\n",
    "            reordered.append(tmh_extended_pairs[i // 2][1])  # Take end residue\n",
    "\n",
    "    return reordered\n",
    "\n",
    "# Process\n",
    "flattened_tmh = reorder_gpcr_tmh_ends(tmh_extended_pairs)\n",
    "print(flattened_tmh)\n"
   ]
  },
  {
   "cell_type": "code",
   "execution_count": 25,
   "id": "cd5ecdbb-5c4b-414e-9066-4db68acf3790",
   "metadata": {
    "scrolled": true
   },
   "outputs": [
    {
     "name": "stdout",
     "output_type": "stream",
     "text": [
      "[9, 10, 11, 12, 13, 14, 15, 16, 17, 18, 19, 20, 21, 22, 23, 24, 25, 26, 27, 28, 29, 30, 31, 32, 33, 34, 35, 36, 37, 38, 39, 40, 41, 42, 43, 44, 45, 46, 47, 48, 49, 50, 51, 52, 53, 54, 55, 56, 57, 58, 59, 88, 89, 90, 91, 92, 93, 94, 95, 96, 97, 98, 99, 100, 101, 102, 103, 104, 105, 106, 107, 108, 109, 110, 111, 112, 113, 114, 115, 116, 117, 118, 119, 120, 121, 122, 123, 124, 125, 126, 127, 128, 129, 130, 131, 132, 133, 134, 135, 136, 137, 138, 139, 140, 141, 142, 143, 144, 145, 146, 147, 148, 149, 150, 151, 152, 153, 154, 155, 156, 157, 158, 159, 160, 161, 162, 163, 164, 165, 166, 167, 168, 169, 170, 171, 172, 173, 174, 175, 176, 177, 178, 179, 180, 181, 182, 183, 184, 185, 186, 187, 188, 189, 190, 191, 192, 193, 194, 195, 196, 197, 198, 199, 200, 201, 202, 205, 206, 207, 208, 209, 210, 211, 212, 213, 214, 215, 216, 217, 218, 219, 220, 221, 222, 223, 224, 225, 226, 227, 228, 229, 230, 231, 232, 233, 234, 235, 236, 237, 238, 239, 240, 241, 242, 243, 244, 245, 246, 247, 248, 249, 250, 251, 252, 253, 254, 255, 263, 264, 265, 266, 267, 268, 269, 270, 271, 272, 273, 274, 275, 276, 277, 278, 279, 280, 281, 282, 283, 284, 285, 286, 287, 288, 289, 290, 291, 292, 293, 294, 295, 296, 297, 298, 299, 300, 301, 302, 303, 304, 305, 306, 307, 308, 309, 310, 311, 312, 313, 314, 315, 316, 317, 318, 319, 320, 321, 322, 323, 324, 325, 326, 327, 328, 329, 330, 331, 332, 333, 334, 335, 336, 337, 338, 339, 340, 341, 342, 343, 344, 345, 346, 347, 348, 349, 350, 351, 352, 353, 354, 355, 356, 357, 358, 359, 360, 361, 362, 363, 364, 365, 366, 367, 368, 369, 370, 371, 372, 373, 374, 375, 376, 377, 378, 379, 380, 381, 382, 383, 384, 385, 386, 387, 388, 389, 390, 391, 392, 393, 394]\n",
      "[(161, 170), (172, 188), (201, 225), (238, 259), (280, 301), (327, 347), (377, 400), (409, 428)]\n",
      "[(2, 31), (38, 67), (73, 107), (118, 143), (168, 200), (366, 397), (404, 427)]\n"
     ]
    }
   ],
   "source": [
    "aligned_data = list(zip(observed_residues, ss_data))\n",
    "\n",
    "# Print the results\n",
    "# for res_num, sec_struct in aligned_data:\n",
    "#     print(f\"Residue {res_num}: {sec_struct}\")\n",
    "\n",
    "# print(desired_extensions_dict)\n",
    "print(observed_residues)\n",
    "print(tmh_ranges)\n",
    "print(extended_tmh_ranges)"
   ]
  },
  {
   "cell_type": "code",
   "execution_count": 30,
   "id": "9bbb881a-930f-4df4-8f71-32bf0c228171",
   "metadata": {},
   "outputs": [
    {
     "name": "stdout",
     "output_type": "stream",
     "text": [
      "PDB Code: 3sn6\n",
      "Extended TMH Ranges: [(2, 31), (38, 67), (73, 107), (118, 143), (168, 200), (366, 397), (404, 427)]\n",
      "Error: start index 366 out of range for 3sn6\n",
      "Error: end index 397 out of range for 3sn6\n",
      "Error: start index 404 out of range for 3sn6\n",
      "Error: end index 427 out of range for 3sn6\n"
     ]
    }
   ],
   "source": [
    "print(f\"PDB Code: {pdb_code}\")\n",
    "# print(f\"Observed Residues: {observed_residues.get(pdb_code, 'Not Found')}\")\n",
    "print(f\"Extended TMH Ranges: {extended_tmh_ranges}\")\n",
    "\n",
    "for start, end in extended_tmh_ranges:\n",
    "    if start < 0 or start >= len(observed_residues):\n",
    "        print(f\"Error: start index {start} out of range for {pdb_code}\")\n",
    "    if end < 0 or end >= len(observed_residues):\n",
    "        print(f\"Error: end index {end} out of range for {pdb_code}\")"
   ]
  },
  {
   "cell_type": "code",
   "execution_count": 32,
   "id": "f87f9ed4-c548-4319-8667-da1d6d30aef6",
   "metadata": {},
   "outputs": [
    {
     "name": "stdout",
     "output_type": "stream",
     "text": [
      "349\n"
     ]
    }
   ],
   "source": [
    "print(len(observed_residues))"
   ]
  },
  {
   "cell_type": "code",
   "execution_count": null,
   "id": "62e2cf16-c843-43b1-9294-b69a4c87dd3b",
   "metadata": {},
   "outputs": [],
   "source": []
  }
 ],
 "metadata": {
  "kernelspec": {
   "display_name": "Python 3 (ipykernel)",
   "language": "python",
   "name": "python3"
  },
  "language_info": {
   "codemirror_mode": {
    "name": "ipython",
    "version": 3
   },
   "file_extension": ".py",
   "mimetype": "text/x-python",
   "name": "python",
   "nbconvert_exporter": "python",
   "pygments_lexer": "ipython3",
   "version": "3.13.1"
  }
 },
 "nbformat": 4,
 "nbformat_minor": 5
}
