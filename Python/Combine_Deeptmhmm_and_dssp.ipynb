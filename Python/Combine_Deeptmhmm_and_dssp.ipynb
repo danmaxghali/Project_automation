{
 "cells": [
  {
   "cell_type": "code",
   "execution_count": 2,
   "id": "8348c8bd-446d-41cb-b31f-86c3d480138c",
   "metadata": {},
   "outputs": [
    {
     "name": "stdout",
     "output_type": "stream",
     "text": [
      "Structure exists: 'C:\\Users\\Student\\OneDrive - Aston University\\Documents\\Biology\\Project\\Project_automation\\Python\\PDB_files\\pdb2r4r.ent' \n",
      "Extracted residues: [37, 38, 39, 40, 41, 42, 43, 44, 45, 46, 47, 48, 49, 50, 51, 52, 53, 54, 55, 56, 57, 58, 59, 61, 62, 63, 64, 65, 66, 67, 68, 69, 70, 71, 72, 73, 74, 75, 76, 77, 78, 79, 80, 81, 82, 83, 84, 85, 86, 87, 88, 89, 90, 108, 109, 110, 111, 112, 113, 114, 115, 116, 117, 118, 119, 120, 121, 122, 123, 124, 125, 126, 127, 128, 129, 130, 131, 132, 133, 134, 135, 136, 137, 138, 139, 140, 141, 142, 143, 144, 145, 146, 147, 148, 149, 150, 151, 152, 153, 154, 155, 156, 157, 158, 159, 160, 161, 162, 163, 164, 203, 204, 205, 206, 207, 208, 209, 210, 211, 212, 213, 214, 215, 216, 217, 218, 219, 220, 221, 222, 223, 224, 225, 226, 227, 228, 229, 230, 231, 232, 233, 234, 235, 236, 237, 238, 239, 240, 241, 242, 264, 265, 266, 267, 268, 269, 270, 271, 272, 273, 274, 275, 276, 277, 278, 279, 280, 281, 282, 283, 284, 285, 286, 287, 288, 289, 290, 291, 311, 312, 313, 314, 315, 316, 317, 318, 319, 320, 321, 322, 323, 324, 325, 326, 327, 328, 329, 330, 331, 332, 333, 334, 335, 336, 337, 338, 339, 340, 341, 342, 343, 344, 345, 346, 347, 348]\n"
     ]
    }
   ],
   "source": [
    "from Bio import PDB, SeqIO\n",
    "from Bio.Seq import Seq\n",
    "from Bio.SeqRecord import SeqRecord\n",
    "import math\n",
    "\n",
    "# Get PDB data\n",
    "pdb_code = \"2r4r\"\n",
    "pdb_file = PDB.PDBList()\n",
    "pdb_file.retrieve_pdb_file(pdb_code, file_format=\"pdb\", pdir='C:\\\\Users\\\\Student\\\\OneDrive - Aston University\\\\Documents\\\\Biology\\\\Project\\\\Project_automation\\\\Python\\\\PDB_files')\n",
    "\n",
    "def three_to_one(resname):\n",
    "    aa_dict = {\n",
    "        \"ALA\": \"A\", \"ARG\": \"R\", \"ASN\": \"N\", \"ASP\": \"D\", \"CYS\": \"C\",\n",
    "        \"GLN\": \"Q\", \"GLU\": \"E\", \"GLY\": \"G\", \"HIS\": \"H\", \"ILE\": \"I\",\n",
    "        \"LEU\": \"L\", \"LYS\": \"K\", \"MET\": \"M\", \"PHE\": \"F\", \"PRO\": \"P\",\n",
    "        \"SER\": \"S\", \"THR\": \"T\", \"TRP\": \"W\", \"TYR\": \"Y\", \"VAL\": \"V\"\n",
    "    }\n",
    "    return aa_dict.get(resname, \"X\")  # Return 'X' for unknown residues\n",
    "\n",
    "\n",
    "def extract_pdb_fasta(pdb_filepath, chain_id, output_fasta):\n",
    "    parser = PDB.PDBParser(QUIET=True)\n",
    "    structure = parser.get_structure(pdb_code, pdb_filepath)\n",
    "\n",
    "    sequence = []\n",
    "    observed_residues = []\n",
    "    \n",
    "    for model in structure:\n",
    "        for chain in model:\n",
    "            if chain.id == chain_id:  # Only process the target chain\n",
    "                for residue in chain.get_residues():\n",
    "                    if PDB.is_aa(residue):\n",
    "                        sequence.append(three_to_one(residue.get_resname()))\n",
    "                        observed_residues.append(residue.id[1])  # Keep track of numbering\n",
    "\n",
    "    fasta_seq = SeqRecord(Seq(\"\".join(sequence)), id=f\"{pdb_filepath}_{chain_id}\", description=\"\")\n",
    "    SeqIO.write(fasta_seq, output_fasta, \"fasta\")\n",
    "\n",
    "    return observed_residues  # Return numbering for later alignment\n",
    "\n",
    "pdb_filepath = f\"C:\\\\Users\\\\Student\\\\OneDrive - Aston University\\\\Documents\\\\Biology\\\\Project\\\\Project_automation\\\\Python\\\\PDB_files\\\\pdb{pdb_code}.ent\"\n",
    "chain_id = \"A\"\n",
    "fasta_filepath = f\"C:\\\\Users\\\\Student\\\\OneDrive - Aston University\\\\Documents\\\\Biology\\\\Project\\\\Project_automation\\\\Python\\\\Fasta_files\\\\{pdb_code}.fasta\"\n",
    "\n",
    "observed_residues = extract_pdb_fasta(pdb_filepath, chain_id, fasta_filepath)\n",
    "print(f\"Extracted residues: {observed_residues}\")\n"
   ]
  },
  {
   "cell_type": "code",
   "execution_count": 3,
   "id": "6cfe5dbe-f5d2-43cb-864f-9356fc39369c",
   "metadata": {},
   "outputs": [
    {
     "name": "stdout",
     "output_type": "stream",
     "text": [
      "STDOUT: 2025-03-04 17:59:13,822 | INFO : Extracted zip file to: output/\n",
      "\n",
      "2025-03-04 17:59:13,823 | INFO : Done in 1.84 seconds\n",
      "\n",
      "2025-03-04 17:59:13,822 | INFO : Extracted zip file to: output/\n",
      "2025-03-04 17:59:13,823 | INFO : Done in 1.84 seconds\n",
      "\n",
      "STDERR: \n"
     ]
    }
   ],
   "source": [
    "# Attempting to use DeepTMHMM through the terminal but accessing that through python\n",
    "import subprocess\n",
    "import os\n",
    "import shutil\n",
    "\n",
    "results_dir = f\"C:\\\\Users\\\\Student\\\\OneDrive - Aston University\\\\Documents\\\\Biology\\\\Project\\\\Project_automation\\\\Python\\\\DeepTMHMM_results\\\\{pdb_code}\"\n",
    "os.makedirs(results_dir, exist_ok=True)\n",
    "\n",
    "# Run DeepTMHMM within the results directory\n",
    "process = subprocess.Popen(\n",
    "    [\"biolib\", \"run\", \"DTU/DeepTMHMM\", \"--fasta\", fasta_filepath],\n",
    "    stdout=subprocess.PIPE,\n",
    "    stderr=subprocess.PIPE,\n",
    "    text=True,\n",
    "    cwd=results_dir \n",
    ")\n",
    "\n",
    "stdout, stderr = process.communicate() \n",
    "print(\"STDOUT:\", stdout)\n",
    "print(\"STDERR:\", stderr)"
   ]
  },
  {
   "cell_type": "code",
   "execution_count": 13,
   "id": "618aa5df-2078-4917-9b21-b1f9ab6687c9",
   "metadata": {
    "scrolled": true
   },
   "outputs": [
    {
     "name": "stdout",
     "output_type": "stream",
     "text": [
      "Structure exists: 'C:\\Users\\Student\\OneDrive - Aston University\\Documents\\Biology\\Project\\Project_automation\\Python\\PDB_files\\pdb2r4r.ent' \n",
      "Extracted residues: [37, 38, 39, 40, 41, 42, 43, 44, 45, 46, 47, 48, 49, 50, 51, 52, 53, 54, 55, 56, 57, 58, 59, 61, 62, 63, 64, 65, 66, 67, 68, 69, 70, 71, 72, 73, 74, 75, 76, 77, 78, 79, 80, 81, 82, 83, 84, 85, 86, 87, 88, 89, 90, 108, 109, 110, 111, 112, 113, 114, 115, 116, 117, 118, 119, 120, 121, 122, 123, 124, 125, 126, 127, 128, 129, 130, 131, 132, 133, 134, 135, 136, 137, 138, 139, 140, 141, 142, 143, 144, 145, 146, 147, 148, 149, 150, 151, 152, 153, 154, 155, 156, 157, 158, 159, 160, 161, 162, 163, 164, 203, 204, 205, 206, 207, 208, 209, 210, 211, 212, 213, 214, 215, 216, 217, 218, 219, 220, 221, 222, 223, 224, 225, 226, 227, 228, 229, 230, 231, 232, 233, 234, 235, 236, 237, 238, 239, 240, 241, 242, 264, 265, 266, 267, 268, 269, 270, 271, 272, 273, 274, 275, 276, 277, 278, 279, 280, 281, 282, 283, 284, 285, 286, 287, 288, 289, 290, 291, 311, 312, 313, 314, 315, 316, 317, 318, 319, 320, 321, 322, 323, 324, 325, 326, 327, 328, 329, 330, 331, 332, 333, 334, 335, 336, 337, 338, 339, 340, 341, 342, 343, 344, 345, 346, 347, 348]\n",
      "[(2, 19), (34, 55), (57, 75), (96, 106), (108, 128), (162, 182), (185, 195)]\n"
     ]
    }
   ],
   "source": [
    "# Align output ranges with actual observed residues\n",
    "tmh_ranges = []\n",
    "tmh_result_file = f\"C:\\\\Users\\\\Student\\\\OneDrive - Aston University\\\\Documents\\\\Biology\\\\Project\\\\Project_automation\\\\Python\\\\DeepTMHMM_results\\\\{pdb_code}\\\\biolib_results\\\\TMRs.gff3\"\n",
    "\n",
    "with open(tmh_result_file) as file:\n",
    "    for line in file:\n",
    "        if \"TMhelix\" in line:\n",
    "            parts = line.strip().split(\"\\t\")\n",
    "            start, end = int(parts[2]), int(parts[3])\n",
    "            tmh_ranges.append((start, end))\n",
    "\n",
    "print(tmh_ranges)\n"
   ]
  },
  {
   "cell_type": "code",
   "execution_count": 14,
   "id": "17d1f78c-dfdc-487f-a19d-e3af483ee8ad",
   "metadata": {},
   "outputs": [],
   "source": [
    "import numpy as np\n",
    "import torch\n",
    "import pydssp\n",
    "\n",
    "parser = PDB.PDBParser(QUIET=True)\n",
    "structure = parser.get_structure(pdb_code, pdb_filepath)\n",
    "\n",
    "# Select the first structure in the file\n",
    "model = structure[0]\n",
    "\n",
    "# Select the A chain\n",
    "chain = model['A']\n",
    "\n",
    "# Retrieve coordinates\n",
    "coordinates = []\n",
    "for residue in chain:\n",
    "    if PDB.is_aa(residue):\n",
    "        res_name = residue.get_resname()\n",
    "        for atom in residue:\n",
    "            if atom.get_name() in ['N', 'CA', 'C', 'O']:\n",
    "                coordinates.append(atom.coord)\n",
    "\n",
    "# Prepare eliments of pytorch tensor\n",
    "L = sum(1 for residue in chain if PDB.is_aa(residue))\n",
    "atoms = 4\n",
    "xyz = 3\n",
    "\n",
    "# Make coordinates into array first to increase efficiency\n",
    "coord_array = np.array(coordinates)\n",
    "\n",
    "# Create tensor\n",
    "coord_tensor = torch.tensor(coord_array, dtype=torch.float32).reshape([L, atoms, xyz])\n",
    "\n",
    "#dssp_hbond_matrix = pydssp.get_hbond_map(coord_tensor) > 0.5\n",
    "\n",
    "# Use pydssp to get secondary structure\n",
    "ss_data = pydssp.assign(coord_tensor, out_type='c3')"
   ]
  },
  {
   "cell_type": "code",
   "execution_count": 15,
   "id": "6b2dbcd8-3def-49a5-82bb-17bc4270d518",
   "metadata": {},
   "outputs": [
    {
     "name": "stdout",
     "output_type": "stream",
     "text": [
      "Desired Extensions: [(0, 2), (4, 0), (0, 5), (4, 1), (9, 4), (5, 4), (6, 0)]\n"
     ]
    }
   ],
   "source": [
    "def calculate_desired_extensions(tmh_ranges, ss_data, max_extend=9):\n",
    "    \"\"\"Determine how much each TMH would like to extend based on consecutive 'H' residues.\"\"\"\n",
    "    desired_extensions = []\n",
    "\n",
    "    for start, end in tmh_ranges:\n",
    "        # Backward extension\n",
    "        backward_extension = 0\n",
    "        for i in range(1, max_extend + 1):\n",
    "            if start - i >= 0 and ss_data[start - i] == \"H\":\n",
    "                backward_extension += 1\n",
    "            else:\n",
    "                break  # Stop at first non-'H'\n",
    "\n",
    "        # Forward extension\n",
    "        forward_extension = 0\n",
    "        for i in range(1, max_extend + 1):\n",
    "            if end + i < len(ss_data) and ss_data[end + i] == \"H\":\n",
    "                forward_extension += 1\n",
    "            else:\n",
    "                break  # Stop at first non-'H'\n",
    "\n",
    "        desired_extensions.append((backward_extension, forward_extension))\n",
    "\n",
    "    return desired_extensions\n",
    "\n",
    "# Example usage\n",
    "desired_extensions = calculate_desired_extensions(tmh_ranges, ss_data)\n",
    "print(\"Desired Extensions:\", desired_extensions)"
   ]
  },
  {
   "cell_type": "code",
   "execution_count": 16,
   "id": "41ccceb6-afb5-49ca-b79b-970585c9ba41",
   "metadata": {},
   "outputs": [
    {
     "name": "stdout",
     "output_type": "stream",
     "text": [
      "Available Spaces: [14, 1, 20, 1, 33, 2]\n"
     ]
    }
   ],
   "source": []
  },
  {
   "cell_type": "code",
   "execution_count": 17,
   "id": "702f2cbd-583f-468a-b816-e471875f02d3",
   "metadata": {},
   "outputs": [
    {
     "name": "stdout",
     "output_type": "stream",
     "text": [
      "{0: (0, 2), 1: (4, 0), 2: (0, 5), 3: (4, 0), 4: (0, 4), 5: (5, 1), 6: (1, 0)}\n"
     ]
    }
   ],
   "source": [
    "def calculate_available_spaces(tmh_ranges):\n",
    "    \"\"\"Calculate the number of residues available between consecutive TMHs.\"\"\"\n",
    "    available_spaces = []\n",
    "\n",
    "    for i in range(len(tmh_ranges) - 1):\n",
    "        prev_end = tmh_ranges[i][1]  # End of the current TMH\n",
    "        next_start = tmh_ranges[i + 1][0]  # Start of the next TMH\n",
    "        available_space = next_start - prev_end - 1  # Residues in between\n",
    "        available_spaces.append(available_space)\n",
    "\n",
    "    return available_spaces\n",
    "\n",
    "# Example usage\n",
    "available_spaces = calculate_available_spaces(tmh_ranges)\n",
    "print(\"Available Spaces:\", available_spaces)\n",
    "\n",
    "# First establish the maximum amount any extension can be\n",
    "max_extension = 9\n",
    "\n",
    "# Edit desired_extensions so that none go over the max_extension\n",
    "desired_extensions = [(min(start, max_extension), min(end, max_extension)) for start, end in desired_extensions]\n",
    "\n",
    "# Put desired extensions in a dictionary so we can align them with available spaces and keep them in order\n",
    "desired_extensions_dict = dict(enumerate(desired_extensions))\n",
    "\n",
    "# Process each available space and ensure fair distribution\n",
    "for i in range(len(available_spaces)):\n",
    "    total_desired = desired_extensions_dict[i][1] + desired_extensions_dict[i + 1][0]  # Sum of forward and backward extension\n",
    "    available = available_spaces[i]  # Available space between TMHs\n",
    "\n",
    "    if total_desired > available:\n",
    "        half_space = math.floor(available / 2)  # Half the space, rounded down\n",
    "        \n",
    "        # If the right-side extension fits within half_space, the left gets the remainder\n",
    "        if half_space >= desired_extensions_dict[i][1]:\n",
    "            desired_extensions_dict[i + 1] = (available - desired_extensions_dict[i][1], desired_extensions_dict[i + 1][1])\n",
    "        \n",
    "        # If the left-side extension fits within half_space, the right gets the remainder\n",
    "        elif half_space >= desired_extensions_dict[i + 1][0]:\n",
    "            desired_extensions_dict[i] = (desired_extensions_dict[i][0], available - desired_extensions_dict[i + 1][0])\n",
    "\n",
    "        # Otherwise, split evenly\n",
    "        else:\n",
    "            desired_extensions_dict[i] = (desired_extensions_dict[i][0], half_space)\n",
    "            desired_extensions_dict[i + 1] = (half_space, desired_extensions_dict[i + 1][1])\n",
    "            \n",
    "print(desired_extensions_dict)\n",
    "\n",
    "# Apply the extensions to tmh_ranges\n",
    "extended_tmh_ranges = []\n",
    "\n",
    "for i, (start, end) in enumerate(tmh_ranges):\n",
    "    left_extension = desired_extensions_dict[i][0]  # Backward extension\n",
    "    right_extension = desired_extensions_dict[i][1]  # Forward extension\n",
    "    \n",
    "    new_start = start - left_extension  # Extend start backwards\n",
    "    new_end = end + right_extension  # Extend end forward\n",
    "    \n",
    "    extended_tmh_ranges.append((new_start, new_end))  # Store the updated range\n",
    "\n",
    "# Print or return the extended TMH ranges\n",
    "print(extended_tmh_ranges)\n",
    "\n",
    "# Convert TMH positions to actual PDB residue numbers as pairs\n",
    "tmh_extended_pairs = [\n",
    "    (observed_residues[start - 1], observed_residues[end - 1]) for start, end in extended_tmh_ranges\n",
    "]\n",
    "\n",
    "print(f\"TMH start/end residue pairs in PDB numbering: {tmh_extended_pairs}\")\n",
    "\n",
    "def reorder_gpcr_tmh_ends(tmh_extended_pairs):\n",
    "    \"\"\"Reorder TMH ends for a GPCR assuming 14 TMH ends in the given pattern.\"\"\"\n",
    "    pattern = [\"extra\", \"intra\", \"intra\", \"extra\", \"extra\", \"intra\", \"intra\", \n",
    "               \"extra\", \"extra\", \"intra\", \"intra\", \"extra\", \"extra\", \"intra\"]\n",
    "\n",
    "    reordered = []\n",
    "    for i, label in enumerate(pattern):\n",
    "        if label == \"extra\":\n",
    "            reordered.append(tmh_extended_pairs[i // 2][0])  # Take start residue\n",
    "        else:  # \"intra\"\n",
    "            reordered.append(tmh_extended_pairs[i // 2][1])  # Take end residue\n",
    "\n",
    "    return reordered\n",
    "\n",
    "# Process\n",
    "flattened_tmh = reorder_gpcr_tmh_ends(tmh_extended_pairs)\n",
    "print(flattened_tmh)\n"
   ]
  },
  {
   "cell_type": "code",
   "execution_count": null,
   "id": "cd5ecdbb-5c4b-414e-9066-4db68acf3790",
   "metadata": {},
   "outputs": [],
   "source": []
  }
 ],
 "metadata": {
  "kernelspec": {
   "display_name": "Python 3 (ipykernel)",
   "language": "python",
   "name": "python3"
  },
  "language_info": {
   "codemirror_mode": {
    "name": "ipython",
    "version": 3
   },
   "file_extension": ".py",
   "mimetype": "text/x-python",
   "name": "python",
   "nbconvert_exporter": "python",
   "pygments_lexer": "ipython3",
   "version": "3.13.1"
  }
 },
 "nbformat": 4,
 "nbformat_minor": 5
}
