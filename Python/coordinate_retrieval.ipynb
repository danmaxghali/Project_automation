{
 "cells": [
  {
   "cell_type": "code",
   "execution_count": 1,
   "id": "3bcb3af6-f6f0-42c9-a56e-5197507c4077",
   "metadata": {},
   "outputs": [
    {
     "name": "stdout",
     "output_type": "stream",
     "text": [
      "Downloading PDB structure '2r4r'...\n",
      "Downloading PDB structure '2r4s'...\n",
      "Downloading PDB structure '2rh1'...\n",
      "Downloading PDB structure '3d4s'...\n",
      "Downloading PDB structure '6e67'...\n",
      "Downloading PDB structure '3sn6'...\n",
      "Downloading PDB structure '3sn6'...\n",
      "['3SN6', '3.20', 'R', 'TYR219', np.float32(8.428), np.float32(6.031), np.float32(13.925), 'TYR326', np.float32(21.614), np.float32(12.361), np.float32(13.496), 'SER207', np.float32(16.308), np.float32(0.329), np.float32(-2.121), 'GLY315', np.float32(18.342), np.float32(12.648), np.float32(-2.895), 'ILE121', np.float32(18.362), np.float32(4.453), np.float32(2.789), 'PHE282', np.float32(14.362), np.float32(11.456), np.float32(4.247), 'GLU268', np.float32(3.561), np.float32(17.853), np.float32(22.387), 'ARG131', np.float32(14.963), np.float32(3.333), np.float32(18.044)]\n"
     ]
    }
   ],
   "source": [
    "# Call libraries\n",
    "from Bio import PDB\n",
    "import tempfile\n",
    "import pandas as pd\n",
    "\n",
    "# Create function to extract coordinates\n",
    "def get_coords(pdb_id, chain_id, residues):\n",
    "    pdb_id = pdb_id.lower()\n",
    "    pdbl = PDB.PDBList()\n",
    "    coords = [pdb_id.upper(), chain_id] \n",
    "\n",
    "    # Create temporary directory\n",
    "    with tempfile.TemporaryDirectory() as temp_dir:\n",
    "        pdb_file_path = pdbl.retrieve_pdb_file(pdb_id, pdir=temp_dir, file_format=\"pdb\")\n",
    "\n",
    "        # Parse the file\n",
    "        parser = PDB.PDBParser(QUIET=True)\n",
    "        structure = parser.get_structure(pdb_id, pdb_file_path)\n",
    "\n",
    "        # Extract resolution\n",
    "        resolution = \"Unknown\"\n",
    "        with open(pdb_file_path, \"r\") as f:\n",
    "            for line in f:\n",
    "                if line.startswith(\"REMARK   2 RESOLUTION\"):\n",
    "                    resolution = line.split()[3]\n",
    "                    break\n",
    "\n",
    "        coords.insert(1, resolution) \n",
    "        \n",
    "        # Loop through file to extract residue coordinates\n",
    "        for residue_id in residues:\n",
    "            found = False\n",
    "            for model in structure:\n",
    "                if chain_id in model:\n",
    "                    chain = model[chain_id]\n",
    "                    if residue_id in chain:\n",
    "                        residue = chain[residue_id]\n",
    "                        residue_name = residue.get_resname()\n",
    "                        for atom in residue:\n",
    "                            if atom.get_name() == \"CA\":\n",
    "                                coords.extend([f\"{residue_name}{residue_id}\", *atom.coord])\n",
    "                                found = True\n",
    "                                break\n",
    "            if not found:\n",
    "                coords.extend([f\"Unknown{residue_id}\", \"NA\", \"NA\", \"NA\"])\n",
    "\n",
    "    return coords\n",
    "\n",
    "# Select pdb code, chain and residues\n",
    "pdb_data = {\n",
    "    \"2R4R\": {\"A\": [219, 326, 207, 315, 121, 282, 268, 131]},\n",
    "    \"2R4S\": {\"A\": [219, 326, 207, 315, 121, 282, 268, 131]},\n",
    "    \"2RH1\": {\"A\": [219, 326, 207, 315, 121, 282, 268, 131]},\n",
    "    \"3D4S\": {\"A\": [219, 326, 207, 315, 121, 282, 268, 131]},\n",
    "    \"3D4S\": {\"A\": [219, 326, 207, 315, 121, 282, 268, 131]},\n",
    "    \"6E67\": {\"B\": [219, 326, 207, 315, 121, 282, 268, 131]},\n",
    "    \"3SN6\": {\"R\": [219, 326, 207, 315, 121, 282, 268, 131]},\n",
    "    \"3SN6\": {\"R\": [219, 326, 207, 315, 121, 282, 268, 131]},\n",
    "\n",
    "\n",
    "\n",
    "\n",
    "}\n",
    "\n",
    "data = []\n",
    "\n",
    "# Collect and prepare items to be processed by function\n",
    "for pdb_id, chains in pdb_data.items():\n",
    "    for chain_id, residues in chains.items():\n",
    "        data.append(get_coords(pdb_id, chain_id, residues))\n",
    "\n",
    "# Organise the data frame for accurate conversion to Excel\n",
    "max_residues = max(len(residues) for chains in pdb_data.values() for residues in chains.values())\n",
    "\n",
    "# Define columns dynamically\n",
    "columns = [\"PDB ID\", \"Resolution\", \"Chain\"] + sum([[\"Res\", \"X\", \"Y\", \"Z\"]] * max_residues, [])\n",
    "\n",
    "# Convert to DataFrame\n",
    "df = pd.DataFrame(data, columns=columns)\n",
    "\n",
    "# Save as Excel output\n",
    "output_file = \"C:/Users/Student/OneDrive - Aston University/Documents/Biology/Project/Landmarks/Automated landmarks/Protein_coordinates.xlsx\"\n",
    "df.to_excel(output_file, index=False)\n",
    "\n",
    "#Print coordinates as a test\n",
    "coordinates = get_coords(pdb_id, chain_id, residues)\n",
    "print(coordinates)"
   ]
  },
  {
   "cell_type": "code",
   "execution_count": 3,
   "id": "85393781-8a0e-43fe-9bb1-e9cbc796887a",
   "metadata": {},
   "outputs": [
    {
     "ename": "NameError",
     "evalue": "name 'coords' is not defined",
     "output_type": "error",
     "traceback": [
      "\u001b[1;31m---------------------------------------------------------------------------\u001b[0m",
      "\u001b[1;31mNameError\u001b[0m                                 Traceback (most recent call last)",
      "Cell \u001b[1;32mIn[3], line 1\u001b[0m\n\u001b[1;32m----> 1\u001b[0m \u001b[38;5;28mprint\u001b[39m(\u001b[43mcoords\u001b[49m)\n",
      "\u001b[1;31mNameError\u001b[0m: name 'coords' is not defined"
     ]
    }
   ],
   "source": [
    "print(coords)"
   ]
  },
  {
   "cell_type": "code",
   "execution_count": null,
   "id": "7bd68033-f4b5-49f8-b480-9db18a311f5b",
   "metadata": {},
   "outputs": [],
   "source": []
  }
 ],
 "metadata": {
  "kernelspec": {
   "display_name": "Python 3 (ipykernel)",
   "language": "python",
   "name": "python3"
  },
  "language_info": {
   "codemirror_mode": {
    "name": "ipython",
    "version": 3
   },
   "file_extension": ".py",
   "mimetype": "text/x-python",
   "name": "python",
   "nbconvert_exporter": "python",
   "pygments_lexer": "ipython3",
   "version": "3.13.1"
  }
 },
 "nbformat": 4,
 "nbformat_minor": 5
}
