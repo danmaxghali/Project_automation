{
 "cells": [
  {
   "cell_type": "code",
   "execution_count": 14,
   "id": "477e6b0a-7013-4c99-9e80-4ac296d9af89",
   "metadata": {},
   "outputs": [
    {
     "name": "stdout",
     "output_type": "stream",
     "text": [
      "Structure exists: 'C:\\Users\\Student\\OneDrive - Aston University\\Documents\\Biology\\Project\\Project_automation\\Python\\rh\\pdb2rh1.ent' \n"
     ]
    },
    {
     "data": {
      "text/plain": [
       "'C:\\\\Users\\\\Student\\\\OneDrive - Aston University\\\\Documents\\\\Biology\\\\Project\\\\Project_automation\\\\Python\\\\rh\\\\pdb2rh1.ent'"
      ]
     },
     "execution_count": 14,
     "metadata": {},
     "output_type": "execute_result"
    }
   ],
   "source": [
    "# Call neccesary liraries\n",
    "from Bio import PDB\n",
    "from Bio.Seq import Seq\n",
    "from Bio.SeqRecord import SeqRecord\n",
    "from Bio import SeqIO\n",
    "import numpy as np\n",
    "import torch\n",
    "import pydssp\n",
    "import biolib\n",
    "\n",
    "# Get PDB data\n",
    "pdb_code = \"2RH1\"\n",
    "pdb_file = PDB.PDBList()\n",
    "pdb_file.retrieve_pdb_file(pdb_code, file_format=\"pdb\")"
   ]
  },
  {
   "cell_type": "code",
   "execution_count": 15,
   "id": "aa622055-34dc-46e0-ac6b-aae0366b8124",
   "metadata": {},
   "outputs": [],
   "source": [
    "# Create a dictionary for amino acid conversion 3 letter to one\n",
    "three_to_one = {\n",
    "    'ALA': 'A', 'CYS': 'C', 'ASP': 'D', 'GLU': 'E', 'PHE': 'F',\n",
    "    'GLY': 'G', 'HIS': 'H', 'ILE': 'I', 'LYS': 'K', 'LEU': 'L',\n",
    "    'MET': 'M', 'ASN': 'N', 'PRO': 'P', 'GLN': 'Q', 'ARG': 'R',\n",
    "    'SER': 'S', 'THR': 'T', 'VAL': 'V', 'TRP': 'W', 'TYR': 'Y'\n",
    "}"
   ]
  },
  {
   "cell_type": "code",
   "execution_count": 16,
   "id": "62280cfe-42b6-41f7-a11a-74cbb5af7116",
   "metadata": {},
   "outputs": [],
   "source": [
    "# Parse the file\n",
    "parser = PDB.PDBParser(QUIET=True)\n",
    "structure = parser.get_structure(pdb_code, f\"rh\\\\pdb2rh1.pdb\")\n",
    "\n",
    "# Select the first structure in the file\n",
    "model = structure[0]\n",
    "\n",
    "# Select the A chain\n",
    "chain = model['A']\n"
   ]
  },
  {
   "cell_type": "code",
   "execution_count": 4,
   "id": "1e2c6a40-7d72-43bf-9d05-154882e6c4cc",
   "metadata": {},
   "outputs": [],
   "source": [
    "# Retrieve coordinates\n",
    "coordinates = []\n",
    "fasta_seq = []\n",
    "for residue in chain:\n",
    "    if PDB.is_aa(residue):\n",
    "        res_name = residue.get_resname()\n",
    "        fasta_seq.append(three_to_one.get(res_name))\n",
    "        for atom in residue:\n",
    "            if atom.get_name() in ['N', 'CA', 'C', 'O']:\n",
    "                coordinates.append(atom.coord)"
   ]
  },
  {
   "cell_type": "code",
   "execution_count": 29,
   "id": "742f5812-545e-4f31-908a-83ae35e4deee",
   "metadata": {},
   "outputs": [
    {
     "name": "stdout",
     "output_type": "stream",
     "text": [
      "442\n",
      "1768\n"
     ]
    }
   ],
   "source": [
    "print(len(fasta_seq))\n",
    "print(len(coordinates))"
   ]
  },
  {
   "cell_type": "code",
   "execution_count": 5,
   "id": "dba0f9fd-397d-4f9b-81f1-f7e1e85e5ab7",
   "metadata": {},
   "outputs": [],
   "source": [
    "# Prepare eliments of pytorch tensor\n",
    "L = sum(1 for residue in chain if PDB.is_aa(residue))\n",
    "atoms = 4\n",
    "xyz = 3\n",
    "\n",
    "# Make coordinates into array first to increase efficiency\n",
    "coord_array = np.array(coordinates)\n",
    "\n",
    "# Create tensor\n",
    "coord_tensor = torch.tensor(coord_array, dtype=torch.float32).reshape([L, atoms, xyz])"
   ]
  },
  {
   "cell_type": "code",
   "execution_count": 6,
   "id": "979bd651-cb6a-49c2-bac6-5f6a97f6e867",
   "metadata": {},
   "outputs": [
    {
     "name": "stdout",
     "output_type": "stream",
     "text": [
      "['-' '-' 'H' 'H' 'H' 'H' 'H' 'H' 'H' 'H' 'H' 'H' 'H' 'H' 'H' 'H' 'H' 'H'\n",
      " 'H' 'H' 'H' 'H' 'H' 'H' 'H' 'H' 'H' 'H' 'H' 'H' 'H' 'H' '-' 'H' 'H' 'H'\n",
      " '-' '-' 'H' 'H' 'H' 'H' 'H' 'H' 'H' 'H' 'H' 'H' 'H' 'H' 'H' 'H' 'H' 'H'\n",
      " 'H' 'H' 'H' '-' 'H' 'H' 'H' 'H' 'H' 'H' 'H' 'H' 'H' 'H' '-' '-' '-' '-'\n",
      " '-' 'H' 'H' 'H' 'H' 'H' 'H' 'H' 'H' 'H' 'H' 'H' 'H' 'H' 'H' 'H' 'H' 'H'\n",
      " 'H' 'H' 'H' 'H' 'H' 'H' 'H' 'H' 'H' 'H' 'H' 'H' 'H' 'H' 'H' 'H' 'H' 'H'\n",
      " '-' '-' '-' '-' '-' '-' '-' '-' '-' '-' 'H' 'H' 'H' 'H' 'H' 'H' 'H' 'H'\n",
      " 'H' 'H' 'H' 'H' 'H' 'H' 'H' 'H' 'H' 'H' 'H' 'H' 'H' 'H' 'H' 'H' '-' '-'\n",
      " '-' '-' 'E' '-' '-' '-' 'H' 'H' 'H' 'H' 'H' 'H' 'H' 'H' '-' '-' '-' '-'\n",
      " '-' '-' '-' '-' 'E' '-' 'H' 'H' 'H' 'H' 'H' 'H' 'H' 'H' 'H' 'H' 'H' '-'\n",
      " 'H' 'H' 'H' 'H' 'H' 'H' 'H' 'H' 'H' 'H' 'H' 'H' 'H' 'H' 'H' 'H' 'H' 'H'\n",
      " 'H' 'H' 'H' '-' '-' 'H' 'H' 'H' 'H' 'H' 'H' 'H' 'H' '-' '-' '-' 'E' '-'\n",
      " 'E' '-' 'E' 'E' '-' '-' '-' '-' '-' 'E' 'E' 'E' 'E' '-' '-' 'E' 'E' '-'\n",
      " 'E' '-' '-' '-' '-' 'H' 'H' 'H' 'H' 'H' 'H' 'H' 'H' 'H' 'H' 'H' 'H' '-'\n",
      " '-' '-' '-' '-' '-' 'E' '-' '-' 'H' 'H' 'H' 'H' 'H' 'H' 'H' 'H' 'H' 'H'\n",
      " 'H' 'H' 'H' 'H' 'H' 'H' 'H' 'H' 'H' 'H' 'H' '-' 'H' 'H' 'H' 'H' 'H' 'H'\n",
      " 'H' 'H' 'H' '-' '-' 'H' 'H' 'H' 'H' 'H' 'H' 'H' 'H' 'H' 'H' 'H' 'H' 'H'\n",
      " 'H' 'H' 'H' 'H' 'H' 'H' 'H' '-' '-' 'H' 'H' 'H' 'H' 'H' 'H' 'H' 'H' '-'\n",
      " '-' '-' 'H' 'H' 'H' 'H' 'H' 'H' 'H' 'H' '-' '-' '-' 'H' 'H' 'H' 'H' 'H'\n",
      " '-' 'H' 'H' 'H' 'H' 'H' 'H' 'H' 'H' 'H' 'H' 'H' 'H' 'H' '-' '-' '-' 'H'\n",
      " 'H' 'H' '-' '-' '-' '-' 'H' 'H' 'H' 'H' 'H' 'H' 'H' 'H' 'H' 'H' 'H' 'H'\n",
      " 'H' 'H' 'H' 'H' 'H' 'H' 'H' 'H' 'H' 'H' 'H' 'H' 'H' 'H' 'H' 'H' 'H' 'H'\n",
      " 'H' 'H' '-' '-' '-' '-' '-' '-' 'H' 'H' 'H' 'H' 'H' 'H' 'H' 'H' 'H' 'H'\n",
      " 'H' 'H' 'H' 'H' '-' '-' '-' 'H' 'H' 'H' 'H' 'H' 'H' 'H' '-' 'H' 'H' 'H'\n",
      " 'H' 'H' 'H' 'H' 'H' 'H' 'H' '-' '-' '-']\n"
     ]
    }
   ],
   "source": [
    "#dssp_hbond_matrix = pydssp.get_hbond_map(coord_tensor) > 0.5\n",
    "\n",
    "# Use pydssp to get secondary structure\n",
    "ss_data = pydssp.assign(coord_tensor, out_type='c3')\n",
    "print(ss_data)"
   ]
  },
  {
   "cell_type": "code",
   "execution_count": 7,
   "id": "5935833c-7bf1-4d4e-86b4-d588e9ea585b",
   "metadata": {},
   "outputs": [
    {
     "name": "stdout",
     "output_type": "stream",
     "text": [
      "--HHHHHHHHHHHHHHHHHHHHHHHHHHHHHH-HHH--HHHHHHHHHHHHHHHHHHH-HHHHHHHHHH-----HHHHHHHHHHHHHHHHHHHHHHHHHHHHHHHHHHH----------HHHHHHHHHHHHHHHHHHHHHHHH----E---HHHHHHHH--------E-HHHHHHHHHHH-HHHHHHHHHHHHHHHHHHHHH--HHHHHHHH---E-E-EE-----EEEE--EE-E----HHHHHHHHHHHH------E--HHHHHHHHHHHHHHHHHHHHH-HHHHHHHHH--HHHHHHHHHHHHHHHHHHHH--HHHHHHHH---HHHHHHHH---HHHHH-HHHHHHHHHHHHH---HHH----HHHHHHHHHHHHHHHHHHHHHHHHHHHHHHHH------HHHHHHHHHHHHHH---HHHHHHH-HHHHHHHHHH---\n"
     ]
    }
   ],
   "source": [
    "ss_data_string = \"\".join(ss_data)\n",
    "print(ss_data_string)"
   ]
  }
 ],
 "metadata": {
  "kernelspec": {
   "display_name": "Python 3 (ipykernel)",
   "language": "python",
   "name": "python3"
  },
  "language_info": {
   "codemirror_mode": {
    "name": "ipython",
    "version": 3
   },
   "file_extension": ".py",
   "mimetype": "text/x-python",
   "name": "python",
   "nbconvert_exporter": "python",
   "pygments_lexer": "ipython3",
   "version": "3.13.1"
  }
 },
 "nbformat": 4,
 "nbformat_minor": 5
}
